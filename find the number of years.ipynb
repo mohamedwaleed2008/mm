{
 "cells": [
  {
   "cell_type": "code",
   "execution_count": 1,
   "id": "5632f844",
   "metadata": {},
   "outputs": [
    {
     "name": "stdout",
     "output_type": "stream",
     "text": [
      "enter the moment:  243957203\n",
      "the secand14637432180\n",
      "the hours 4065953.3833333333\n",
      "the days 169414.72430555554\n",
      "the weaks 24202.10347222222\n",
      "the manths 6050.525868055555\n",
      "the years 6050.525868055555\n"
     ]
    }
   ],
   "source": [
    "moments=int(input(\"enter the moment:  \"))\n",
    "secand=moments*60\n",
    "hours=moments/60\n",
    "days=hours/24\n",
    "weaks=days/7\n",
    "manths=weaks/4\n",
    "years=manths/48\n",
    "print(f\"the secand{secand}\")\n",
    "print(f\"the hours {hours}\")\n",
    "print(f\"the days {days}\")\n",
    "print(f\"the weaks {weaks}\")\n",
    "print(f\"the manths {manths}\")\n",
    "print(f\"the years {manths}\")"
   ]
  },
  {
   "cell_type": "code",
   "execution_count": null,
   "id": "1cf5f140",
   "metadata": {},
   "outputs": [],
   "source": []
  }
 ],
 "metadata": {
  "kernelspec": {
   "display_name": "Python 3 (ipykernel)",
   "language": "python",
   "name": "python3"
  },
  "language_info": {
   "codemirror_mode": {
    "name": "ipython",
    "version": 3
   },
   "file_extension": ".py",
   "mimetype": "text/x-python",
   "name": "python",
   "nbconvert_exporter": "python",
   "pygments_lexer": "ipython3",
   "version": "3.11.4"
  }
 },
 "nbformat": 4,
 "nbformat_minor": 5
}
