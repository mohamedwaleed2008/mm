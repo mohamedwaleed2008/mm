{
 "cells": [
  {
   "cell_type": "code",
   "execution_count": null,
   "id": "389229d1",
   "metadata": {},
   "outputs": [
    {
     "name": "stdout",
     "output_type": "stream",
     "text": [
      "enter your name:  ahmed mohamed mostafa\n"
     ]
    }
   ],
   "source": [
    "name1=input(\"enter your name:  \").split(\" \")\n",
    "name2=input(\"entr your name:   \").split(\" \")\n",
    "if name1[1]==name2[1] and name1[2]==name2[2]:\n",
    "    print(\"thay is brathers\")\n",
    "else:\n",
    "    print(\"thay is'not brathers\")"
   ]
  },
  {
   "cell_type": "code",
   "execution_count": null,
   "id": "b6f407ca",
   "metadata": {},
   "outputs": [],
   "source": []
  }
 ],
 "metadata": {
  "kernelspec": {
   "display_name": "Python 3 (ipykernel)",
   "language": "python",
   "name": "python3"
  },
  "language_info": {
   "codemirror_mode": {
    "name": "ipython",
    "version": 3
   },
   "file_extension": ".py",
   "mimetype": "text/x-python",
   "name": "python",
   "nbconvert_exporter": "python",
   "pygments_lexer": "ipython3",
   "version": "3.11.4"
  }
 },
 "nbformat": 4,
 "nbformat_minor": 5
}
