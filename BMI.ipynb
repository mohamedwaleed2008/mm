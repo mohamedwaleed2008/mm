{
 "cells": [
  {
   "cell_type": "code",
   "execution_count": 12,
   "id": "bd2541f6",
   "metadata": {},
   "outputs": [
    {
     "name": "stdout",
     "output_type": "stream",
     "text": [
      "enter the wieght by pounds:  160\n",
      "enter the length by inch:  100\n",
      "11.24911327422655\n"
     ]
    }
   ],
   "source": [
    "wieght=float(input(\"enter the wieght by pounds:  \"))\n",
    "length=float(input(\"enter the length by inch:  \"))\n",
    "convert=wieght*0.45359237\n",
    "inch=length*0.0254\n",
    "BMI=convert/(inch**2)\n",
    "print(BMI)"
   ]
  },
  {
   "cell_type": "code",
   "execution_count": null,
   "id": "a462d501",
   "metadata": {},
   "outputs": [],
   "source": []
  },
  {
   "cell_type": "code",
   "execution_count": null,
   "id": "e15f9e5a",
   "metadata": {},
   "outputs": [],
   "source": []
  }
 ],
 "metadata": {
  "kernelspec": {
   "display_name": "Python 3 (ipykernel)",
   "language": "python",
   "name": "python3"
  },
  "language_info": {
   "codemirror_mode": {
    "name": "ipython",
    "version": 3
   },
   "file_extension": ".py",
   "mimetype": "text/x-python",
   "name": "python",
   "nbconvert_exporter": "python",
   "pygments_lexer": "ipython3",
   "version": "3.11.4"
  }
 },
 "nbformat": 4,
 "nbformat_minor": 5
}
