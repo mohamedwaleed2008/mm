{
 "cells": [
  {
   "cell_type": "code",
   "execution_count": 8,
   "id": "159740d4",
   "metadata": {},
   "outputs": [
    {
     "ename": "AttributeError",
     "evalue": "module 'csv' has no attribute 'DicWriter'",
     "output_type": "error",
     "traceback": [
      "\u001b[1;31m---------------------------------------------------------------------------\u001b[0m",
      "\u001b[1;31mAttributeError\u001b[0m                            Traceback (most recent call last)",
      "Cell \u001b[1;32mIn[8], line 8\u001b[0m\n\u001b[0;32m      6\u001b[0m file_name\u001b[38;5;241m=\u001b[39m\u001b[38;5;124m\"\u001b[39m\u001b[38;5;124mC:\u001b[39m\u001b[38;5;130;01m\\\\\u001b[39;00m\u001b[38;5;124mUsers\u001b[39m\u001b[38;5;130;01m\\\\\u001b[39;00m\u001b[38;5;124mJ0223042\u001b[39m\u001b[38;5;130;01m\\\\\u001b[39;00m\u001b[38;5;124mDesktop\u001b[39m\u001b[38;5;130;01m\\\\\u001b[39;00m\u001b[38;5;124mNew Microsoft Excel Worksheet.csv\u001b[39m\u001b[38;5;124m\"\u001b[39m\n\u001b[0;32m      7\u001b[0m \u001b[38;5;28;01mwith\u001b[39;00m \u001b[38;5;28mopen\u001b[39m(file_name,\u001b[38;5;124m\"\u001b[39m\u001b[38;5;124mw\u001b[39m\u001b[38;5;124m\"\u001b[39m)\u001b[38;5;28;01mas\u001b[39;00m file:\n\u001b[1;32m----> 8\u001b[0m     writer\u001b[38;5;241m=\u001b[39mcsv\u001b[38;5;241m.\u001b[39mDicWriter(file,fielnames\u001b[38;5;241m=\u001b[39mfields)\n\u001b[0;32m      9\u001b[0m     writer\u001b[38;5;241m.\u001b[39mwriteheader()\n\u001b[0;32m     10\u001b[0m     writer\u001b[38;5;241m.\u001b[39mwriterows(my_dectionary)\n",
      "\u001b[1;31mAttributeError\u001b[0m: module 'csv' has no attribute 'DicWriter'"
     ]
    }
   ],
   "source": [
    "import csv\n",
    "my_dectionary=[{'name':'Ziad','age':'16','school':'Ahmed Dief' },\n",
    "              {'name': 'Ahmed', 'age':'16','school':'Ahmed Dief'},\n",
    "              {'name':'mahmoud','age':'16','school':'Ahmed Dief'}]\n",
    "fields=['name','age','school']\n",
    "file_name=\"C:\\\\Users\\\\J0223042\\\\Desktop\\\\New Microsoft Excel Worksheet.csv\"\n",
    "with open(file_name,\"w\")as file:\n",
    "    writer=csv.DicWriter(file,fielnames=fields)\n",
    "    writer.writeheader()\n",
    "    writer.writerows(my_dectionary)"
   ]
  },
  {
   "cell_type": "code",
   "execution_count": null,
   "id": "7edb326b",
   "metadata": {},
   "outputs": [],
   "source": []
  }
 ],
 "metadata": {
  "kernelspec": {
   "display_name": "Python 3 (ipykernel)",
   "language": "python",
   "name": "python3"
  },
  "language_info": {
   "codemirror_mode": {
    "name": "ipython",
    "version": 3
   },
   "file_extension": ".py",
   "mimetype": "text/x-python",
   "name": "python",
   "nbconvert_exporter": "python",
   "pygments_lexer": "ipython3",
   "version": "3.11.4"
  }
 },
 "nbformat": 4,
 "nbformat_minor": 5
}
